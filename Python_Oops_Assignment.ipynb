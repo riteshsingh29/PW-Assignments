{
  "cells": [
    {
      "cell_type": "markdown",
      "id": "46f73d5d",
      "metadata": {},
      "source": [
        "# Ritesh Singh - Python OOP Assignment Answers\n",
        "\n",
        "Ritesh Singh’s Python OOP theory and practical exercises."
      ]
    },
    {
      "cell_type": "markdown",
      "id": "d36f8e3d",
      "metadata": {},
      "source": [
        "**1. What is Object-Oriented Programming (OOP)?**\n",
        "\n",
        "A programming paradigm that uses \"objects\"—data structures consisting of fields and methods—to model real‐world entities and relationships. Objects encapsulate state and behavior, enabling modular, reusable, and extensible code."
      ]
    },
    {
      "cell_type": "markdown",
      "id": "71dfc1c4",
      "metadata": {},
      "source": [
        "**2. What is a class in OOP?**\n",
        "\n",
        "A blueprint or template defining attributes (data) and methods (functions) that characterize objects of that type."
      ]
    },
    {
      "cell_type": "markdown",
      "id": "d63c7410",
      "metadata": {},
      "source": [
        "**3. What is an object in OOP?**\n",
        "\n",
        "An instance of a class containing actual values for the attributes defined by the class and able to invoke its methods."
      ]
    },
    {
      "cell_type": "markdown",
      "id": "7248489e",
      "metadata": {},
      "source": [
        "**4. What is the difference between abstraction and encapsulation?**\n",
        "\n",
        "Abstraction hides complex implementation details behind a simple interface. Encapsulation bundles data and methods together and restricts direct access to some of an object’s components."
      ]
    },
    {
      "cell_type": "markdown",
      "id": "d8366199",
      "metadata": {},
      "source": [
        "**5. What are dunder methods in Python?**\n",
        "\n",
        "Special methods with double underscores before and after their name (e.g. `__init__`, `__str__`) that Python invokes under the hood for standard operations."
      ]
    },
    {
      "cell_type": "markdown",
      "id": "647cf4fb",
      "metadata": {},
      "source": [
        "**6. Explain the concept of inheritance in OOP.**\n",
        "\n",
        "A mechanism where a new class (child) derives attributes and methods from an existing class (parent), enabling code reuse and a hierarchical class structure."
      ]
    },
    {
      "cell_type": "markdown",
      "id": "f1eb4fdd",
      "metadata": {},
      "source": [
        "**7. What is polymorphism in OOP?**\n",
        "\n",
        "Ability for different classes to be treated through the same interface, with each class implementing the interface in its own way."
      ]
    },
    {
      "cell_type": "markdown",
      "id": "2f5d2e4c",
      "metadata": {},
      "source": [
        "**8. How is encapsulation achieved in Python?**\n",
        "\n",
        "By prefixing attributes or methods with single or double underscores (`_attr`, `__attr`) and using properties or getter/setter methods to control access."
      ]
    },
    {
      "cell_type": "markdown",
      "id": "611ecfab",
      "metadata": {},
      "source": [
        "**9. What is a constructor in Python?**\n",
        "\n",
        "The `__init__` method called automatically to initialize a newly created object’s attributes."
      ]
    },
    {
      "cell_type": "markdown",
      "id": "2b2056c5",
      "metadata": {},
      "source": [
        "**10. What are class and static methods in Python?**\n",
        "\n",
        "- Class methods (`@classmethod`) receive the class (`cls`) as the first argument.\n",
        "- Static methods (`@staticmethod`) do not receive an implicit first argument and behave like regular functions contained in a class namespace."
      ]
    },
    {
      "cell_type": "markdown",
      "id": "a0e81625",
      "metadata": {},
      "source": [
        "**11. What is method overloading in Python?**\n",
        "\n",
        "Python does not support true method overloading by signature; you can emulate it via default arguments or `*args`/`**kwargs`."
      ]
    },
    {
      "cell_type": "markdown",
      "id": "5f60c473",
      "metadata": {},
      "source": [
        "**12. What is method overriding in OOP?**\n",
        "\n",
        "When a subclass provides its own implementation of a method already defined in its superclass."
      ]
    },
    {
      "cell_type": "markdown",
      "id": "e3406253",
      "metadata": {},
      "source": [
        "**13. What is a property decorator in Python?**\n",
        "\n",
        "`@property` transforms a method into a read-only attribute, optionally paired with setter/deleter decorators."
      ]
    },
    {
      "cell_type": "markdown",
      "id": "9102ab96",
      "metadata": {},
      "source": [
        "**14. Why is polymorphism important in OOP?**\n",
        "\n",
        "It allows code to work with objects of different classes through a common interface, enhancing flexibility and extensibility."
      ]
    },
    {
      "cell_type": "markdown",
      "id": "812c7d66",
      "metadata": {},
      "source": [
        "**15. What is an abstract class in Python?**\n",
        "\n",
        "A class with the `ABC` metaclass and at least one `@abstractmethod`, serving as a template that cannot be instantiated until all abstract methods are overridden."
      ]
    },
    {
      "cell_type": "markdown",
      "id": "4f86638d",
      "metadata": {},
      "source": [
        "**16. What are the advantages of OOP?**\n",
        "\n",
        "- Modularity\n",
        "- Reusability\n",
        "- Extensibility\n",
        "- Maintainability\n",
        "- Abstraction and encapsulation"
      ]
    },
    {
      "cell_type": "markdown",
      "id": "2fdfdd15",
      "metadata": {},
      "source": [
        "**17. What is the difference between a class variable and an instance variable?**\n",
        "\n",
        "Class variables are shared across all instances; instance variables are unique to each object."
      ]
    },
    {
      "cell_type": "markdown",
      "id": "45d9c506",
      "metadata": {},
      "source": [
        "**18. What is multiple inheritance in Python?**\n",
        "\n",
        "A class can inherit from more than one parent class, combining their attributes and methods."
      ]
    },
    {
      "cell_type": "markdown",
      "id": "3f62fbf4",
      "metadata": {},
      "source": [
        "**19. Explain the purpose of `__str__` and `__repr__` methods in Python.**\n",
        "\n",
        "`__str__` returns a human-readable string; `__repr__` returns an unambiguous representation, ideally valid Python code."
      ]
    },
    {
      "cell_type": "markdown",
      "id": "ef0e55f3",
      "metadata": {},
      "source": [
        "**20. What is the significance of the `super()` function in Python?**\n",
        "\n",
        "Provides a way to call parent class methods, especially in multiple inheritance scenarios."
      ]
    },
    {
      "cell_type": "markdown",
      "id": "44a52906",
      "metadata": {},
      "source": [
        "**21. What is the significance of the `__del__` method in Python?**\n",
        "\n",
        "Destructor method invoked when an object is about to be destroyed; rarely needed thanks to garbage collection."
      ]
    },
    {
      "cell_type": "markdown",
      "id": "0a1d9f2c",
      "metadata": {},
      "source": [
        "**22. What is the difference between `@staticmethod` and `@classmethod` in Python?**\n",
        "\n",
        "`@staticmethod` has no implicit first argument; `@classmethod` receives the class as `cls`."
      ]
    },
    {
      "cell_type": "markdown",
      "id": "c6bb7421",
      "metadata": {},
      "source": [
        "**23. How does polymorphism work in Python with inheritance?**\n",
        "\n",
        "Subclass instances can be treated as instances of the parent class and call overridden methods at runtime."
      ]
    },
    {
      "cell_type": "markdown",
      "id": "7b297e61",
      "metadata": {},
      "source": [
        "**24. What is method chaining in Python OOP?**\n",
        "\n",
        "Design pattern where methods return `self` to allow consecutive calls in a single statement."
      ]
    },
    {
      "cell_type": "markdown",
      "id": "d65e7827",
      "metadata": {},
      "source": [
        "**25. What is the purpose of the `__call__` method in Python?**\n",
        "\n",
        "Allows an instance to be called like a function, executing custom logic defined in `__call__`."
      ]
    },
    {
      "cell_type": "markdown",
      "id": "74cf1100",
      "metadata": {},
      "source": [
        "# Practical Questions"
      ]
    },
    {
      "cell_type": "markdown",
      "id": "abcbf183",
      "metadata": {},
      "source": [
        "**Practical 1:** Create a parent class Animal with a method speak() that prints a generic message. Create a child class Dog that overrides the speak() method to print \"Bark!\"."
      ]
    },
    {
      "cell_type": "code",
      "execution_count": 1,
      "id": "6454aaf3",
      "metadata": {},
      "outputs": [
        {
          "name": "stdout",
          "output_type": "stream",
          "text": [
            "Bark!\n"
          ]
        }
      ],
      "source": [
        "class Animal:\n",
        "    def speak(self):\n",
        "        print(\"Some sound\")\n",
        "\n",
        "class Dog(Animal):\n",
        "    def speak(self):\n",
        "        print(\"Bark!\")\n",
        "\n",
        "Dog().speak()"
      ]
    },
    {
      "cell_type": "markdown",
      "id": "af844020",
      "metadata": {},
      "source": [
        "**Practical 2:** Write a program to create an abstract class Shape with a method area(). Derive classes Circle and Rectangle from it and implement the area() method in both."
      ]
    },
    {
      "cell_type": "code",
      "execution_count": 2,
      "id": "41ce8475",
      "metadata": {},
      "outputs": [
        {
          "name": "stdout",
          "output_type": "stream",
          "text": [
            "78.53975 24\n"
          ]
        }
      ],
      "source": [
        "from abc import ABC, abstractmethod\n",
        "\n",
        "class Shape(ABC):\n",
        "    @abstractmethod\n",
        "    def area(self): pass\n",
        "\n",
        "class Circle(Shape):\n",
        "    def __init__(self, r): self.r = r\n",
        "    def area(self): return 3.14159 * self.r * self.r\n",
        "\n",
        "class Rectangle(Shape):\n",
        "    def __init__(self, w, h): self.w = w; self.h = h\n",
        "    def area(self): return self.w * self.h\n",
        "\n",
        "print(Circle(5).area(), Rectangle(4,6).area())"
      ]
    },
    {
      "cell_type": "markdown",
      "id": "a30846cf",
      "metadata": {},
      "source": [
        "**Practical 3:** Implement a multi-level inheritance scenario where a class Vehicle has an attribute type. Derive a class Car and further derive a class ElectricCar that adds a battery attribute."
      ]
    },
    {
      "cell_type": "code",
      "execution_count": 3,
      "id": "4ce61b4f",
      "metadata": {},
      "outputs": [
        {
          "name": "stdout",
          "output_type": "stream",
          "text": [
            "Sedan 75\n"
          ]
        }
      ],
      "source": [
        "class Vehicle:\n",
        "    def __init__(self, type): self.type = type\n",
        "\n",
        "class Car(Vehicle):\n",
        "    pass\n",
        "\n",
        "class ElectricCar(Car):\n",
        "    def __init__(self, type, battery):\n",
        "        super().__init__(type)\n",
        "        self.battery = battery\n",
        "\n",
        "ec = ElectricCar('Sedan', 75)\n",
        "print(ec.type, ec.battery)"
      ]
    },
    {
      "cell_type": "markdown",
      "id": "564e0a75",
      "metadata": {},
      "source": [
        "**Practical 4:** Demonstrate polymorphism by creating a base class Bird with a method fly(). Create two derived classes Sparrow and Penguin that override the fly() method."
      ]
    },
    {
      "cell_type": "code",
      "execution_count": 4,
      "id": "91502c50",
      "metadata": {},
      "outputs": [
        {
          "name": "stdout",
          "output_type": "stream",
          "text": [
            "Sparrow flying\n",
            "Penguins can't fly\n"
          ]
        }
      ],
      "source": [
        "class Bird:\n",
        "    def fly(self): print(\"Flying\")\n",
        "\n",
        "class Sparrow(Bird):\n",
        "    def fly(self): print(\"Sparrow flying\")\n",
        "\n",
        "class Penguin(Bird):\n",
        "    def fly(self): print(\"Penguins can't fly\")\n",
        "\n",
        "for b in [Sparrow(), Penguin()]: b.fly()"
      ]
    },
    {
      "cell_type": "markdown",
      "id": "32636715",
      "metadata": {},
      "source": [
        "**Practical 5:** Write a program to demonstrate encapsulation by creating a class BankAccount with private attributes balance and methods to deposit, withdraw, and check balance."
      ]
    },
    {
      "cell_type": "code",
      "execution_count": 5,
      "id": "8ab6f866",
      "metadata": {},
      "outputs": [
        {
          "name": "stdout",
          "output_type": "stream",
          "text": [
            "120\n"
          ]
        }
      ],
      "source": [
        "class BankAccount:\n",
        "    def __init__(self, bal=0): self.__balance = bal\n",
        "    def deposit(self, amt): self.__balance += amt\n",
        "    def withdraw(self, amt): self.__balance -= amt\n",
        "    def get_balance(self): return self.__balance\n",
        "\n",
        "acc = BankAccount(100)\n",
        "acc.deposit(50)\n",
        "acc.withdraw(30)\n",
        "print(acc.get_balance())"
      ]
    },
    {
      "cell_type": "markdown",
      "id": "ac81d3df",
      "metadata": {},
      "source": [
        "**Practical 6:** Demonstrate runtime polymorphism using a method play() in a base class Instrument. Derive classes Guitar and Piano that implement their own version of play()."
      ]
    },
    {
      "cell_type": "code",
      "execution_count": 6,
      "id": "ecfdf7e3",
      "metadata": {},
      "outputs": [
        {
          "name": "stdout",
          "output_type": "stream",
          "text": [
            "Strum\n",
            "Plink\n"
          ]
        }
      ],
      "source": [
        "class Instrument:\n",
        "    def play(self): pass\n",
        "\n",
        "class Guitar(Instrument):\n",
        "    def play(self): print(\"Strum\")\n",
        "\n",
        "class Piano(Instrument):\n",
        "    def play(self): print(\"Plink\")\n",
        "\n",
        "for i in [Guitar(), Piano()]: i.play()"
      ]
    },
    {
      "cell_type": "markdown",
      "id": "e237d4d2",
      "metadata": {},
      "source": [
        "**Practical 7:** Create a class MathOperations with a class method add_numbers() to add two numbers and a static method subtract_numbers() to subtract two numbers."
      ]
    },
    {
      "cell_type": "code",
      "execution_count": 7,
      "id": "d208d16e",
      "metadata": {},
      "outputs": [
        {
          "name": "stdout",
          "output_type": "stream",
          "text": [
            "8 2\n"
          ]
        }
      ],
      "source": [
        "class MathOperations:\n",
        "    @classmethod\n",
        "    def add_numbers(cls, a, b): return a + b\n",
        "    @staticmethod\n",
        "    def subtract_numbers(a, b): return a - b\n",
        "\n",
        "print(MathOperations.add_numbers(5,3), MathOperations.subtract_numbers(5,3))"
      ]
    },
    {
      "cell_type": "markdown",
      "id": "d294dd7d",
      "metadata": {},
      "source": [
        "**Practical 8:** Implement a class Person with a class method to count the total number of persons created."
      ]
    },
    {
      "cell_type": "code",
      "execution_count": 8,
      "id": "c636a3b1",
      "metadata": {},
      "outputs": [
        {
          "name": "stdout",
          "output_type": "stream",
          "text": [
            "2\n"
          ]
        }
      ],
      "source": [
        "class Person:\n",
        "    count = 0\n",
        "    def __init__(self): Person.count += 1\n",
        "    @classmethod\n",
        "    def total_persons(cls): return cls.count\n",
        "\n",
        "p1 = Person(); p2 = Person()\n",
        "print(Person.total_persons())"
      ]
    },
    {
      "cell_type": "markdown",
      "id": "331a023e",
      "metadata": {},
      "source": [
        "**Practical 9:** Write a class Fraction with attributes numerator and denominator. Override the str method to display the fraction as \"numerator/denominator\"."
      ]
    },
    {
      "cell_type": "code",
      "execution_count": 9,
      "id": "34949b3d",
      "metadata": {},
      "outputs": [
        {
          "name": "stdout",
          "output_type": "stream",
          "text": [
            "3/4\n"
          ]
        }
      ],
      "source": [
        "class Fraction:\n",
        "    def __init__(self, n, d): self.n, self.d = n, d\n",
        "    def __str__(self): return f\"{self.n}/{self.d}\"\n",
        "\n",
        "print(str(Fraction(3,4)))"
      ]
    },
    {
      "cell_type": "markdown",
      "id": "014c5796",
      "metadata": {},
      "source": [
        "**Practical 10:** Demonstrate operator overloading by creating a class Vector and overriding the add method to add two vectors."
      ]
    },
    {
      "cell_type": "code",
      "execution_count": 10,
      "id": "313a0fc2",
      "metadata": {},
      "outputs": [
        {
          "name": "stdout",
          "output_type": "stream",
          "text": [
            "(4,6)\n"
          ]
        }
      ],
      "source": [
        "class Vector:\n",
        "    def __init__(self, x,y): self.x, self.y = x,y\n",
        "    def __add__(self, other): return Vector(self.x+other.x, self.y+other.y)\n",
        "    def __str__(self): return f\"({self.x},{self.y})\"\n",
        "\n",
        "print(Vector(1,2) + Vector(3,4))"
      ]
    },
    {
      "cell_type": "markdown",
      "id": "0124cd30",
      "metadata": {},
      "source": [
        "**Practical 11:** Create a class Person with attributes name and age. Add a method greet() that prints \"Hello, my name is {name} and I am {age} years old.\""
      ]
    },
    {
      "cell_type": "code",
      "execution_count": 11,
      "id": "9db87f0e",
      "metadata": {},
      "outputs": [
        {
          "name": "stdout",
          "output_type": "stream",
          "text": [
            "Hello, my name is Ritesh Singh and I am 30 years old.\n"
          ]
        }
      ],
      "source": [
        "class Person:\n",
        "    def __init__(self, name, age): self.name, self.age = name, age\n",
        "    def greet(self): print(f\"Hello, my name is {self.name} and I am {self.age} years old.\")\n",
        "\n",
        "Person('Ritesh Singh',30).greet()"
      ]
    },
    {
      "cell_type": "markdown",
      "id": "3d359890",
      "metadata": {},
      "source": [
        "**Practical 12:** Implement a class Student with attributes name and grades. Create a method average_grade() to compute the average of the grades."
      ]
    },
    {
      "cell_type": "code",
      "execution_count": 12,
      "id": "f9409669",
      "metadata": {},
      "outputs": [
        {
          "name": "stdout",
          "output_type": "stream",
          "text": [
            "80.0\n"
          ]
        }
      ],
      "source": [
        "class Student:\n",
        "    def __init__(self, name, grades): self.name, self.grades = name, grades\n",
        "    def average_grade(self): return sum(self.grades)/len(self.grades)\n",
        "\n",
        "print(Student('Bob',[90,80,70]).average_grade())"
      ]
    },
    {
      "cell_type": "markdown",
      "id": "8fb40d8b",
      "metadata": {},
      "source": [
        "**Practical 13:** Create a class Rectangle with methods set_dimensions() to set the dimensions and area() to calculate the area."
      ]
    },
    {
      "cell_type": "code",
      "execution_count": 13,
      "id": "7f309dd0",
      "metadata": {},
      "outputs": [
        {
          "name": "stdout",
          "output_type": "stream",
          "text": [
            "20\n"
          ]
        }
      ],
      "source": [
        "class Rectangle:\n",
        "    def set_dimensions(self, w,h): self.w, self.h = w,h\n",
        "    def area(self): return self.w * self.h\n",
        "\n",
        "r = Rectangle(); r.set_dimensions(4,5)\n",
        "print(r.area())"
      ]
    },
    {
      "cell_type": "markdown",
      "id": "04c25b48",
      "metadata": {},
      "source": [
        "**Practical 14:** Create a class Employee with a method calculate_salary() that computes the salary based on hours worked and hourly rate. Create a derived class Manager that adds a bonus to the salary."
      ]
    },
    {
      "cell_type": "code",
      "execution_count": 14,
      "id": "f8ada705",
      "metadata": {},
      "outputs": [
        {
          "name": "stdout",
          "output_type": "stream",
          "text": [
            "1300\n"
          ]
        }
      ],
      "source": [
        "class Employee:\n",
        "    def __init__(self, hours, rate): self.hours, self.rate = hours, rate\n",
        "    def calculate_salary(self): return self.hours * self.rate\n",
        "\n",
        "class Manager(Employee):\n",
        "    def __init__(self, hours, rate, bonus):\n",
        "        super().__init__(hours, rate)\n",
        "        self.bonus = bonus\n",
        "    def calculate_salary(self): return super().calculate_salary() + self.bonus\n",
        "\n",
        "print(Manager(40,20,500).calculate_salary())"
      ]
    },
    {
      "cell_type": "markdown",
      "id": "394c163f",
      "metadata": {},
      "source": [
        "**Practical 15:** Create a class Product with attributes name, price, and quantity. Implement a method total_price() that calculates the total price of the product."
      ]
    },
    {
      "cell_type": "code",
      "execution_count": 15,
      "id": "b3db0230",
      "metadata": {},
      "outputs": [
        {
          "name": "stdout",
          "output_type": "stream",
          "text": [
            "25.0\n"
          ]
        }
      ],
      "source": [
        "class Product:\n",
        "    def __init__(self, name, price, qty): self.name, self.price, self.qty = name, price, qty\n",
        "    def total_price(self): return self.price * self.qty\n",
        "\n",
        "print(Product('Pen',2.5,10).total_price())"
      ]
    },
    {
      "cell_type": "markdown",
      "id": "904b7918",
      "metadata": {},
      "source": [
        "**Practical 16:** Create a class Animal with an abstract method sound(). Create two derived classes Cow and Sheep that implement the sound() method."
      ]
    },
    {
      "cell_type": "code",
      "execution_count": 16,
      "id": "34753167",
      "metadata": {},
      "outputs": [
        {
          "name": "stdout",
          "output_type": "stream",
          "text": [
            "Moo\n",
            "Baa\n"
          ]
        }
      ],
      "source": [
        "from abc import ABC, abstractmethod\n",
        "\n",
        "class Animal(ABC):\n",
        "    @abstractmethod\n",
        "    def sound(self): pass\n",
        "\n",
        "class Cow(Animal):\n",
        "    def sound(self): print(\"Moo\")\n",
        "\n",
        "class Sheep(Animal):\n",
        "    def sound(self): print(\"Baa\")\n",
        "\n",
        "Cow().sound(); Sheep().sound()"
      ]
    },
    {
      "cell_type": "markdown",
      "id": "d77187e5",
      "metadata": {},
      "source": [
        "**Practical 17:** Create a class Book with attributes title, author, and year_published. Add a method get_book_info() that returns a formatted string with the book's details."
      ]
    },
    {
      "cell_type": "code",
      "execution_count": 17,
      "id": "4f366f17",
      "metadata": {},
      "outputs": [
        {
          "name": "stdout",
          "output_type": "stream",
          "text": [
            "1984 by Orwell, published in 1949\n"
          ]
        }
      ],
      "source": [
        "class Book:\n",
        "    def __init__(self, title, author, year): self.title, self.author, self.year = title, author, year\n",
        "    def get_book_info(self): return f\"{self.title} by {self.author}, published in {self.year}\"\n",
        "\n",
        "print(Book('1984','Orwell',1949).get_book_info())"
      ]
    },
    {
      "cell_type": "markdown",
      "id": "329b3e1a",
      "metadata": {},
      "source": [
        "**Practical 18:** Create a class House with attributes address and price. Create a derived class Mansion that adds an attribute number_of_rooms."
      ]
    },
    {
      "cell_type": "code",
      "execution_count": 18,
      "metadata": {},
      "outputs": [
        {
          "name": "stdout",
          "output_type": "stream",
          "text": [
            "123 Elm St 1000000 12\n"
          ]
        }
      ],
      "source": [
        "class House:\n",
        "    def __init__(self, address, price): self.address, self.price = address, price\n",
        "\n",
        "class Mansion(House):\n",
        "    def __init__(self, address, price, rooms):\n",
        "        super().__init__(address, price)\n",
        "        self.number_of_rooms = rooms\n",
        "\n",
        "m = Mansion('123 Elm St', 1_000_000, 12)\n",
        "print(m.address, m.price, m.number_of_rooms)"
      ]
    }
  ],
  "metadata": {
    "kernelspec": {
      "display_name": "Python 3",
      "language": "python",
      "name": "python3"
    },
    "language_info": {
      "codemirror_mode": {
        "name": "ipython",
        "version": 3
      },
      "file_extension": ".py",
      "mimetype": "text/x-python",
      "name": "python",
      "nbconvert_exporter": "python",
      "pygments_lexer": "ipython3",
      "version": "3.11.9"
    }
  },
  "nbformat": 4,
  "nbformat_minor": 5
}
