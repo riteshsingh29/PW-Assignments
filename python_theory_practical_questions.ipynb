{
 "cells": [
  {
   "cell_type": "markdown",
   "id": "daaea05e",
   "metadata": {},
   "source": [
    "### What is Python, and why is it popular\n",
    "\n",
    "Python is a high-level, interpreted programming language known for its simple syntax, readability, and broad community support. It is popular due to its versatility, ease of learning, and extensive libraries for web development, data analysis, machine learning, automation, and more."
   ]
  },
  {
   "cell_type": "markdown",
   "id": "81f8a43f",
   "metadata": {},
   "source": [
    "### What is an interpreter in Python\n",
    "\n",
    "An interpreter in Python is a program that executes Python code line by line. It translates high-level Python code into machine code at runtime."
   ]
  },
  {
   "cell_type": "markdown",
   "id": "1d07db6a",
   "metadata": {},
   "source": [
    "### What are pre-defined keywords in Python\n",
    "\n",
    "Pre-defined keywords are reserved words that have special meaning in Python, such as `if`, `else`, `while`, `def`, etc. These cannot be used as identifiers (variable names)."
   ]
  },
  {
   "cell_type": "markdown",
   "id": "300961f8",
   "metadata": {},
   "source": [
    "### Can keywords be used as variable names\n",
    "\n",
    "No, keywords cannot be used as variable names as they are reserved by the language for specific syntax."
   ]
  },
  {
   "cell_type": "markdown",
   "id": "674057bf",
   "metadata": {},
   "source": [
    "### What is mutability in Python\n",
    "\n",
    "Mutability refers to whether an object’s state can be modified after it is created. Mutable objects can be changed, while immutable ones cannot."
   ]
  },
  {
   "cell_type": "markdown",
   "id": "e01bf6fc",
   "metadata": {},
   "source": [
    "### Why are lists mutable, but tuples are immutable\n",
    "\n",
    "Lists are designed for dynamic data and allow changes like appending, removing, or modifying elements. Tuples are immutable to ensure data integrity and are often used for fixed collections."
   ]
  },
  {
   "cell_type": "markdown",
   "id": "f0b6e458",
   "metadata": {},
   "source": [
    "### What is the difference between “==” and “is” operators in Python\n",
    "\n",
    "`==` checks if values of two variables are equal, while `is` checks if they point to the same object in memory."
   ]
  },
  {
   "cell_type": "markdown",
   "id": "48c19c0a",
   "metadata": {},
   "source": [
    "### What are logical operators in Python\n",
    "\n",
    "Logical operators include `and`, `or`, and `not`, used to combine conditional statements."
   ]
  },
  {
   "cell_type": "markdown",
   "id": "f5ca2826",
   "metadata": {},
   "source": [
    "### What is type casting in Python\n",
    "\n",
    "Type casting is converting one data type into another, like turning a string into an integer."
   ]
  },
  {
   "cell_type": "markdown",
   "id": "6868add2",
   "metadata": {},
   "source": [
    "### What is the difference between implicit and explicit type casting\n",
    "\n",
    "Implicit type casting is done automatically by Python, while explicit casting is manually done by the programmer using functions like `int()`, `float()`, `str()`."
   ]
  },
  {
   "cell_type": "markdown",
   "id": "44b81990",
   "metadata": {},
   "source": [
    "### What is the purpose of conditional statements in Python\n",
    "\n",
    "Conditional statements control the flow of execution based on conditions, allowing decisions in programs (e.g., `if`, `else`)."
   ]
  },
  {
   "cell_type": "markdown",
   "id": "7f92d784",
   "metadata": {},
   "source": [
    "### How does the elif statement work\n",
    "\n",
    "`elif` allows multiple conditions to be checked sequentially after an `if`. It executes the first true condition."
   ]
  },
  {
   "cell_type": "markdown",
   "id": "84b301d4",
   "metadata": {},
   "source": [
    "### What is the difference between for and while loops\n",
    "\n",
    "`for` loops iterate over a sequence (like list or range), while `while` loops run as long as a condition is true."
   ]
  },
  {
   "cell_type": "markdown",
   "id": "080c6787",
   "metadata": {},
   "source": [
    "### Describe a scenario where a while loop is more suitable than a for loop.\n",
    "\n",
    "A while loop is better when the number of iterations is unknown in advance, like waiting for user input until it's valid."
   ]
  },
  {
   "cell_type": "markdown",
   "id": "1073cb70",
   "metadata": {},
   "source": [
    "### Write a Python program to print \"Hello, World!\""
   ]
  },
  {
   "cell_type": "code",
   "execution_count": 1,
   "id": "1ff2d06d",
   "metadata": {},
   "outputs": [
    {
     "name": "stdout",
     "output_type": "stream",
     "text": [
      "Hello, World!\n"
     ]
    }
   ],
   "source": [
    "print(\"Hello, World!\")"
   ]
  },
  {
   "cell_type": "markdown",
   "id": "9e2000d9",
   "metadata": {},
   "source": [
    "### Write a Python program that displays your name and age"
   ]
  },
  {
   "cell_type": "code",
   "execution_count": 3,
   "id": "4f70940b",
   "metadata": {},
   "outputs": [
    {
     "name": "stdout",
     "output_type": "stream",
     "text": [
      "My name is Ritesh Singh and I am 25 years old.\n"
     ]
    }
   ],
   "source": [
    "name = \"Ritesh Singh\"\n",
    "age = 25\n",
    "print(f\"My name is {name} and I am {age} years old.\")"
   ]
  },
  {
   "cell_type": "markdown",
   "id": "70a46b8d",
   "metadata": {},
   "source": [
    "### Write code to print all the pre-defined keywords in Python using the keyword library"
   ]
  },
  {
   "cell_type": "code",
   "execution_count": 4,
   "id": "ce86b608",
   "metadata": {},
   "outputs": [
    {
     "name": "stdout",
     "output_type": "stream",
     "text": [
      "['False', 'None', 'True', 'and', 'as', 'assert', 'async', 'await', 'break', 'class', 'continue', 'def', 'del', 'elif', 'else', 'except', 'finally', 'for', 'from', 'global', 'if', 'import', 'in', 'is', 'lambda', 'nonlocal', 'not', 'or', 'pass', 'raise', 'return', 'try', 'while', 'with', 'yield']\n"
     ]
    }
   ],
   "source": [
    "import keyword\n",
    "print(keyword.kwlist)"
   ]
  },
  {
   "cell_type": "markdown",
   "id": "f0acedba",
   "metadata": {},
   "source": [
    "### Write a program that checks if a given word is a Python keyword."
   ]
  },
  {
   "cell_type": "code",
   "execution_count": 5,
   "id": "16a1e959",
   "metadata": {},
   "outputs": [
    {
     "name": "stdout",
     "output_type": "stream",
     "text": [
      "true is not a Python keyword.\n"
     ]
    }
   ],
   "source": [
    "import keyword\n",
    "word = input(\"Enter a word: \")\n",
    "if keyword.iskeyword(word):\n",
    "    print(f\"{word} is a Python keyword.\")\n",
    "else:\n",
    "    print(f\"{word} is not a Python keyword.\")"
   ]
  },
  {
   "cell_type": "markdown",
   "id": "b340616f",
   "metadata": {},
   "source": [
    "### Write a function to demonstrate the behavior of mutable and immutable arguments."
   ]
  },
  {
   "cell_type": "code",
   "execution_count": 6,
   "id": "7de53653",
   "metadata": {},
   "outputs": [
    {
     "name": "stdout",
     "output_type": "stream",
     "text": [
      "List: [1, 2, 3, 4]\n",
      "Number: 10\n"
     ]
    }
   ],
   "source": [
    "def modify_args(a_list, a_number):\n",
    "    a_list.append(4)\n",
    "    a_number += 1\n",
    "\n",
    "my_list = [1, 2, 3]\n",
    "my_number = 10\n",
    "modify_args(my_list, my_number)\n",
    "print(\"List:\", my_list)\n",
    "print(\"Number:\", my_number)"
   ]
  },
  {
   "cell_type": "markdown",
   "id": "e2669f31",
   "metadata": {},
   "source": [
    "### Write a program that performs basic arithmetic operations on two user-input numbers."
   ]
  },
  {
   "cell_type": "code",
   "execution_count": 7,
   "id": "158317ff",
   "metadata": {},
   "outputs": [
    {
     "name": "stdout",
     "output_type": "stream",
     "text": [
      "Sum: 57.0\n",
      "Difference: -11.0\n",
      "Product: 782.0\n",
      "Quotient: 0.6764705882352942\n"
     ]
    }
   ],
   "source": [
    "a = float(input(\"Enter first number: \"))\n",
    "b = float(input(\"Enter second number: \"))\n",
    "print(\"Sum:\", a + b)\n",
    "print(\"Difference:\", a - b)\n",
    "print(\"Product:\", a * b)\n",
    "print(\"Quotient:\", a / b)"
   ]
  },
  {
   "cell_type": "markdown",
   "id": "0b6ae67d",
   "metadata": {},
   "source": [
    "### Write a program to demonstrate the use of logical operators."
   ]
  },
  {
   "cell_type": "code",
   "execution_count": 8,
   "id": "b928fe9e",
   "metadata": {},
   "outputs": [
    {
     "name": "stdout",
     "output_type": "stream",
     "text": [
      "True\n",
      "True\n",
      "False\n"
     ]
    }
   ],
   "source": [
    "a = 10\n",
    "b = 20\n",
    "print(a > 5 and b > 15)\n",
    "print(a > 15 or b > 15)\n",
    "print(not a > 5)"
   ]
  },
  {
   "cell_type": "markdown",
   "id": "d86dcdba",
   "metadata": {},
   "source": [
    "### Create a list and tuple in Python, and demonstrate how attempting to change an element works differently for each."
   ]
  },
  {
   "cell_type": "code",
   "execution_count": 11,
   "id": "407b4d2e",
   "metadata": {},
   "outputs": [
    {
     "name": "stdout",
     "output_type": "stream",
     "text": [
      "Modified list: [10, 2, 3]\n",
      "Original tuple: (1, 2, 3)\n"
     ]
    }
   ],
   "source": [
    "my_list = [1, 2, 3]\n",
    "my_tuple = (1, 2, 3)\n",
    "my_list[0] = 10\n",
    "print(\"Modified list:\", my_list)\n",
    "# my_tuple[0] = 10  # This will raise a TypeError\n",
    "print(\"Original tuple:\", my_tuple)"
   ]
  },
  {
   "cell_type": "markdown",
   "id": "7baa958f",
   "metadata": {},
   "source": [
    "### Write a Python program to convert user input from string to integer, float, and boolean types."
   ]
  },
  {
   "cell_type": "code",
   "execution_count": 7,
   "id": "1e5b960e",
   "metadata": {},
   "outputs": [
    {
     "name": "stdout",
     "output_type": "stream",
     "text": [
      "Integer: 89\n",
      "Float: 89.0\n",
      "Boolean: True\n"
     ]
    }
   ],
   "source": [
    "user_input = input(\"Enter a value: \")\n",
    "print(\"Integer:\", int(user_input))\n",
    "print(\"Float:\", float(user_input))\n",
    "print(\"Boolean:\", bool(user_input))"
   ]
  },
  {
   "cell_type": "markdown",
   "id": "38e05810",
   "metadata": {},
   "source": [
    "### Write code to demonstrate type casting with list elements."
   ]
  },
  {
   "cell_type": "code",
   "execution_count": 2,
   "id": "10e5067c",
   "metadata": {},
   "outputs": [
    {
     "name": "stdout",
     "output_type": "stream",
     "text": [
      "[1, 2, 3]\n"
     ]
    }
   ],
   "source": [
    "string_numbers = [\"1\", \"2\", \"3\"]\n",
    "int_numbers = list(map(int, string_numbers))\n",
    "print(int_numbers)"
   ]
  },
  {
   "cell_type": "markdown",
   "id": "915f200d",
   "metadata": {},
   "source": [
    "### Write a program that checks if a number is positive, negative, or zero."
   ]
  },
  {
   "cell_type": "code",
   "execution_count": null,
   "id": "8bf3f316",
   "metadata": {},
   "outputs": [],
   "source": [
    "num = float(input(\"Enter a number: \"))\n",
    "if num > 0:\n",
    "    print(\"Positive\")\n",
    "elif num < 0:\n",
    "    print(\"Negative\")\n",
    "else:\n",
    "    print(\"Zero\")"
   ]
  },
  {
   "cell_type": "markdown",
   "id": "a498e8bf",
   "metadata": {},
   "source": [
    "### Write a for loop to print numbers from 1 to 10."
   ]
  },
  {
   "cell_type": "code",
   "execution_count": null,
   "id": "6f99f1c2",
   "metadata": {},
   "outputs": [],
   "source": [
    "for i in range(1, 11):\n",
    "    print(i)"
   ]
  },
  {
   "cell_type": "markdown",
   "id": "11f08c04",
   "metadata": {},
   "source": [
    "### Write a Python program to find the sum of all even numbers between 1 and 50."
   ]
  },
  {
   "cell_type": "code",
   "execution_count": 3,
   "id": "0d6c6a1c",
   "metadata": {},
   "outputs": [
    {
     "name": "stdout",
     "output_type": "stream",
     "text": [
      "Sum of even numbers: 650\n"
     ]
    }
   ],
   "source": [
    "total = 0\n",
    "for i in range(1, 51):\n",
    "    if i % 2 == 0:\n",
    "        total += i\n",
    "print(\"Sum of even numbers:\", total)"
   ]
  },
  {
   "cell_type": "markdown",
   "id": "97106f58",
   "metadata": {},
   "source": [
    "### Write a program to reverse a string using a while loop."
   ]
  },
  {
   "cell_type": "code",
   "execution_count": 4,
   "id": "8dd6667c",
   "metadata": {},
   "outputs": [
    {
     "name": "stdout",
     "output_type": "stream",
     "text": [
      "Reversed string: imawsogbanra\n"
     ]
    }
   ],
   "source": [
    "text = input(\"Enter a string: \")\n",
    "reversed_text = \"\"\n",
    "i = len(text) - 1\n",
    "while i >= 0:\n",
    "    reversed_text += text[i]\n",
    "    i -= 1\n",
    "print(\"Reversed string:\", reversed_text)"
   ]
  },
  {
   "cell_type": "markdown",
   "id": "ada2814f",
   "metadata": {},
   "source": [
    "### Write a Python program to calculate the factorial of a number provided by the user using a while loop"
   ]
  },
  {
   "cell_type": "code",
   "execution_count": 5,
   "id": "65145df5",
   "metadata": {},
   "outputs": [
    {
     "name": "stdout",
     "output_type": "stream",
     "text": [
      "Factorial: 9426890448883247745626185743057242473809693764078951663494238777294707070023223798882976159207729119823605850588608460429412647567360000000000000000000000\n"
     ]
    }
   ],
   "source": [
    "num = int(input(\"Enter a number: \"))\n",
    "factorial = 1\n",
    "i = 1\n",
    "while i <= num:\n",
    "    factorial *= i\n",
    "    i += 1\n",
    "print(\"Factorial:\", factorial)"
   ]
  }
 ],
 "metadata": {
  "kernelspec": {
   "display_name": "Python 3",
   "language": "python",
   "name": "python3"
  },
  "language_info": {
   "codemirror_mode": {
    "name": "ipython",
    "version": 3
   },
   "file_extension": ".py",
   "mimetype": "text/x-python",
   "name": "python",
   "nbconvert_exporter": "python",
   "pygments_lexer": "ipython3",
   "version": "3.12.2"
  }
 },
 "nbformat": 4,
 "nbformat_minor": 5
}
